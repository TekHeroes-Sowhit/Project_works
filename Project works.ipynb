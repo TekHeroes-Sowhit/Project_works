{
 "cells": [
  {
   "cell_type": "code",
   "execution_count": 1,
   "metadata": {},
   "outputs": [],
   "source": [
    "import pandas as pd\n",
    "import numpy as np\n",
    "from sklearn.model_selection import train_test_split\n",
    "from sklearn.linear_model import LinearRegression\n",
    "from sklearn.pipeline import Pipeline\n",
    "from sklearn.preprocessing import StandardScaler\n",
    "from sklearn.linear_model import LogisticRegression\n",
    "from sklearn.svm import SVR,LinearSVR\n",
    "from sklearn.neighbors import KNeighborsClassifier\n",
    "#from catboost import CatBoostRegressor\n",
    "import warnings\n",
    "warnings.filterwarnings('ignore')\n",
    "from sklearn.ensemble import RandomForestRegressor,GradientBoostingRegressor\n",
    "from sklearn.compose import ColumnTransformer\n",
    "#from xgboost import XGBRegressor\n",
    "from sklearn.tree import DecisionTreeRegressor\n",
    "from sklearn.preprocessing import OrdinalEncoder,OneHotEncoder,StandardScaler"
   ]
  },
  {
   "cell_type": "code",
   "execution_count": 19,
   "metadata": {},
   "outputs": [],
   "source": [
    "df=pd.read_csv(\"file:///C:/Users/00824732/Desktop/supermarket_sales%20-%20Sheet1.csv\")"
   ]
  },
  {
   "cell_type": "code",
   "execution_count": 20,
   "metadata": {},
   "outputs": [
    {
     "name": "stdout",
     "output_type": "stream",
     "text": [
      "<class 'pandas.core.frame.DataFrame'>\n",
      "RangeIndex: 1000 entries, 0 to 999\n",
      "Data columns (total 17 columns):\n",
      " #   Column                   Non-Null Count  Dtype  \n",
      "---  ------                   --------------  -----  \n",
      " 0   Invoice ID               1000 non-null   object \n",
      " 1   Branch                   1000 non-null   object \n",
      " 2   City                     1000 non-null   object \n",
      " 3   Customer type            1000 non-null   object \n",
      " 4   Gender                   1000 non-null   object \n",
      " 5   Product line             1000 non-null   object \n",
      " 6   Unit price               1000 non-null   float64\n",
      " 7   Quantity                 1000 non-null   int64  \n",
      " 8   Tax 5%                   1000 non-null   float64\n",
      " 9   Total                    1000 non-null   float64\n",
      " 10  Date                     1000 non-null   object \n",
      " 11  Time                     1000 non-null   object \n",
      " 12  Payment                  1000 non-null   object \n",
      " 13  cogs                     1000 non-null   float64\n",
      " 14  gross margin percentage  1000 non-null   float64\n",
      " 15  gross income             1000 non-null   float64\n",
      " 16  Rating                   1000 non-null   float64\n",
      "dtypes: float64(7), int64(1), object(9)\n",
      "memory usage: 132.9+ KB\n"
     ]
    }
   ],
   "source": [
    "df.info()"
   ]
  },
  {
   "cell_type": "code",
   "execution_count": 21,
   "metadata": {},
   "outputs": [],
   "source": [
    "def pre_process(df):\n",
    "    df=df.copy()\n",
    "    y=df['Rating']\n",
    "    x=df.drop('Rating',axis=1)\n",
    "    return x,y"
   ]
  },
  {
   "cell_type": "code",
   "execution_count": 22,
   "metadata": {},
   "outputs": [],
   "source": [
    "x,y=pre_process(df)"
   ]
  },
  {
   "cell_type": "code",
   "execution_count": 23,
   "metadata": {},
   "outputs": [],
   "source": [
    "x_train,x_test,y_train,y_test=train_test_split(x,y,test_size=0.3,random_state=3)"
   ]
  },
  {
   "cell_type": "code",
   "execution_count": 1,
   "metadata": {},
   "outputs": [],
   "source": [
    "## Constructing a pipeline"
   ]
  },
  {
   "cell_type": "code",
   "execution_count": 97,
   "metadata": {},
   "outputs": [
    {
     "data": {
      "text/plain": [
       "Index(['Invoice ID', 'Branch', 'City', 'Customer type', 'Gender',\n",
       "       'Product line', 'Unit price', 'Quantity', 'Tax 5%', 'Total', 'Date',\n",
       "       'Time', 'Payment', 'cogs', 'gross margin percentage', 'gross income',\n",
       "       'Rating'],\n",
       "      dtype='object')"
      ]
     },
     "execution_count": 97,
     "metadata": {},
     "output_type": "execute_result"
    }
   ],
   "source": [
    "df.columns"
   ]
  },
  {
   "cell_type": "code",
   "execution_count": 31,
   "metadata": {},
   "outputs": [
    {
     "data": {
      "text/plain": [
       "{'Invoice ID': 700,\n",
       " 'Branch': 3,\n",
       " 'City': 3,\n",
       " 'Customer type': 2,\n",
       " 'Gender': 2,\n",
       " 'Product line': 6,\n",
       " 'Date': 89,\n",
       " 'Time': 418,\n",
       " 'Payment': 3}"
      ]
     },
     "execution_count": 31,
     "metadata": {},
     "output_type": "execute_result"
    }
   ],
   "source": [
    "{column:len(x_train[column].unique()) for column in x_train.select_dtypes('object').columns}"
   ]
  },
  {
   "cell_type": "code",
   "execution_count": null,
   "metadata": {},
   "outputs": [],
   "source": [
    "## Categorize our featuers"
   ]
  },
  {
   "cell_type": "code",
   "execution_count": 99,
   "metadata": {},
   "outputs": [],
   "source": [
    "binary_featuers=[\n",
    "    'Customer type',\n",
    "    'Gender'\n",
    "]\n",
    "date_featuers=[\n",
    "    'Date'\n",
    "]\n",
    "time_featuers=[\n",
    "    'Time'\n",
    "]\n",
    "nominal_featuers=   [\n",
    "    'Branch',\n",
    "    'City',\n",
    "    'Product line',\n",
    "    'Payment'\n",
    "]"
   ]
  },
  {
   "cell_type": "code",
   "execution_count": 25,
   "metadata": {},
   "outputs": [
    {
     "data": {
      "text/html": [
       "<div>\n",
       "<style scoped>\n",
       "    .dataframe tbody tr th:only-of-type {\n",
       "        vertical-align: middle;\n",
       "    }\n",
       "\n",
       "    .dataframe tbody tr th {\n",
       "        vertical-align: top;\n",
       "    }\n",
       "\n",
       "    .dataframe thead th {\n",
       "        text-align: right;\n",
       "    }\n",
       "</style>\n",
       "<table border=\"1\" class=\"dataframe\">\n",
       "  <thead>\n",
       "    <tr style=\"text-align: right;\">\n",
       "      <th></th>\n",
       "      <th>A</th>\n",
       "      <th>B</th>\n",
       "      <th>C</th>\n",
       "    </tr>\n",
       "  </thead>\n",
       "  <tbody>\n",
       "    <tr>\n",
       "      <th>926</th>\n",
       "      <td>0</td>\n",
       "      <td>1</td>\n",
       "      <td>0</td>\n",
       "    </tr>\n",
       "    <tr>\n",
       "      <th>411</th>\n",
       "      <td>0</td>\n",
       "      <td>1</td>\n",
       "      <td>0</td>\n",
       "    </tr>\n",
       "    <tr>\n",
       "      <th>224</th>\n",
       "      <td>1</td>\n",
       "      <td>0</td>\n",
       "      <td>0</td>\n",
       "    </tr>\n",
       "    <tr>\n",
       "      <th>14</th>\n",
       "      <td>1</td>\n",
       "      <td>0</td>\n",
       "      <td>0</td>\n",
       "    </tr>\n",
       "    <tr>\n",
       "      <th>170</th>\n",
       "      <td>1</td>\n",
       "      <td>0</td>\n",
       "      <td>0</td>\n",
       "    </tr>\n",
       "    <tr>\n",
       "      <th>...</th>\n",
       "      <td>...</td>\n",
       "      <td>...</td>\n",
       "      <td>...</td>\n",
       "    </tr>\n",
       "    <tr>\n",
       "      <th>952</th>\n",
       "      <td>0</td>\n",
       "      <td>1</td>\n",
       "      <td>0</td>\n",
       "    </tr>\n",
       "    <tr>\n",
       "      <th>643</th>\n",
       "      <td>0</td>\n",
       "      <td>0</td>\n",
       "      <td>1</td>\n",
       "    </tr>\n",
       "    <tr>\n",
       "      <th>249</th>\n",
       "      <td>0</td>\n",
       "      <td>1</td>\n",
       "      <td>0</td>\n",
       "    </tr>\n",
       "    <tr>\n",
       "      <th>664</th>\n",
       "      <td>0</td>\n",
       "      <td>0</td>\n",
       "      <td>1</td>\n",
       "    </tr>\n",
       "    <tr>\n",
       "      <th>874</th>\n",
       "      <td>1</td>\n",
       "      <td>0</td>\n",
       "      <td>0</td>\n",
       "    </tr>\n",
       "  </tbody>\n",
       "</table>\n",
       "<p>700 rows × 3 columns</p>\n",
       "</div>"
      ],
      "text/plain": [
       "     A  B  C\n",
       "926  0  1  0\n",
       "411  0  1  0\n",
       "224  1  0  0\n",
       "14   1  0  0\n",
       "170  1  0  0\n",
       "..  .. .. ..\n",
       "952  0  1  0\n",
       "643  0  0  1\n",
       "249  0  1  0\n",
       "664  0  0  1\n",
       "874  1  0  0\n",
       "\n",
       "[700 rows x 3 columns]"
      ]
     },
     "execution_count": 25,
     "metadata": {},
     "output_type": "execute_result"
    }
   ],
   "source": [
    "pd.get_dummies(x_train['Branch'])"
   ]
  },
  {
   "cell_type": "code",
   "execution_count": 92,
   "metadata": {},
   "outputs": [],
   "source": [
    "## create custom transformers for date and time featuers"
   ]
  },
  {
   "cell_type": "code",
   "execution_count": 109,
   "metadata": {},
   "outputs": [],
   "source": [
    "class DateEncoder:\n",
    "    def fit(self,x,y):\n",
    "        return self\n",
    "    def transform(self,x):\n",
    "        for column in x.columns:\n",
    "            x[column]=pd.to_datetime(x[column])\n",
    "            x[column+'_year']=x[column].apply(lambda x:x.year)\n",
    "            x[column+'_month']=x[column].apply(lambda x:x.month)\n",
    "            x[column+'_day']=x[column].apply(lambda x:x.day)\n",
    "            x=x.drop(column,axis=1)\n",
    "        return x"
   ]
  },
  {
   "cell_type": "code",
   "execution_count": 101,
   "metadata": {},
   "outputs": [
    {
     "data": {
      "text/plain": [
       "926    2\n",
       "411    2\n",
       "224    2\n",
       "14     2\n",
       "170    2\n",
       "      ..\n",
       "952    2\n",
       "643    2\n",
       "249    2\n",
       "664    2\n",
       "874    2\n",
       "Name: Time, Length: 700, dtype: int64"
      ]
     },
     "execution_count": 101,
     "metadata": {},
     "output_type": "execute_result"
    }
   ],
   "source": [
    "pd.to_datetime(x_train['Time']).apply(lambda x:x.day)\n",
    "pd.to_datetime(x_train['Time']).apply(lambda x:x.month)"
   ]
  },
  {
   "cell_type": "code",
   "execution_count": 102,
   "metadata": {},
   "outputs": [
    {
     "data": {
      "text/html": [
       "<div>\n",
       "<style scoped>\n",
       "    .dataframe tbody tr th:only-of-type {\n",
       "        vertical-align: middle;\n",
       "    }\n",
       "\n",
       "    .dataframe tbody tr th {\n",
       "        vertical-align: top;\n",
       "    }\n",
       "\n",
       "    .dataframe thead th {\n",
       "        text-align: right;\n",
       "    }\n",
       "</style>\n",
       "<table border=\"1\" class=\"dataframe\">\n",
       "  <thead>\n",
       "    <tr style=\"text-align: right;\">\n",
       "      <th></th>\n",
       "      <th>Time_year</th>\n",
       "      <th>Time_month</th>\n",
       "      <th>Time_day</th>\n",
       "    </tr>\n",
       "  </thead>\n",
       "  <tbody>\n",
       "    <tr>\n",
       "      <th>926</th>\n",
       "      <td>2023</td>\n",
       "      <td>2</td>\n",
       "      <td>17</td>\n",
       "    </tr>\n",
       "    <tr>\n",
       "      <th>411</th>\n",
       "      <td>2023</td>\n",
       "      <td>2</td>\n",
       "      <td>17</td>\n",
       "    </tr>\n",
       "    <tr>\n",
       "      <th>224</th>\n",
       "      <td>2023</td>\n",
       "      <td>2</td>\n",
       "      <td>17</td>\n",
       "    </tr>\n",
       "    <tr>\n",
       "      <th>14</th>\n",
       "      <td>2023</td>\n",
       "      <td>2</td>\n",
       "      <td>17</td>\n",
       "    </tr>\n",
       "    <tr>\n",
       "      <th>170</th>\n",
       "      <td>2023</td>\n",
       "      <td>2</td>\n",
       "      <td>17</td>\n",
       "    </tr>\n",
       "    <tr>\n",
       "      <th>...</th>\n",
       "      <td>...</td>\n",
       "      <td>...</td>\n",
       "      <td>...</td>\n",
       "    </tr>\n",
       "    <tr>\n",
       "      <th>952</th>\n",
       "      <td>2023</td>\n",
       "      <td>2</td>\n",
       "      <td>17</td>\n",
       "    </tr>\n",
       "    <tr>\n",
       "      <th>643</th>\n",
       "      <td>2023</td>\n",
       "      <td>2</td>\n",
       "      <td>17</td>\n",
       "    </tr>\n",
       "    <tr>\n",
       "      <th>249</th>\n",
       "      <td>2023</td>\n",
       "      <td>2</td>\n",
       "      <td>17</td>\n",
       "    </tr>\n",
       "    <tr>\n",
       "      <th>664</th>\n",
       "      <td>2023</td>\n",
       "      <td>2</td>\n",
       "      <td>17</td>\n",
       "    </tr>\n",
       "    <tr>\n",
       "      <th>874</th>\n",
       "      <td>2023</td>\n",
       "      <td>2</td>\n",
       "      <td>17</td>\n",
       "    </tr>\n",
       "  </tbody>\n",
       "</table>\n",
       "<p>700 rows × 3 columns</p>\n",
       "</div>"
      ],
      "text/plain": [
       "     Time_year  Time_month  Time_day\n",
       "926       2023           2        17\n",
       "411       2023           2        17\n",
       "224       2023           2        17\n",
       "14        2023           2        17\n",
       "170       2023           2        17\n",
       "..         ...         ...       ...\n",
       "952       2023           2        17\n",
       "643       2023           2        17\n",
       "249       2023           2        17\n",
       "664       2023           2        17\n",
       "874       2023           2        17\n",
       "\n",
       "[700 rows x 3 columns]"
      ]
     },
     "execution_count": 102,
     "metadata": {},
     "output_type": "execute_result"
    }
   ],
   "source": [
    "DateEncoder().transform(x_train[['Time']])"
   ]
  },
  {
   "cell_type": "code",
   "execution_count": 110,
   "metadata": {},
   "outputs": [],
   "source": [
    "class TimeEncoder:\n",
    "    def fit(self,x,y):\n",
    "        return self\n",
    "    def transform(self,x):\n",
    "        for column in x.columns:\n",
    "            x[column]=pd.to_datetime(x[column])\n",
    "            x[column+'_hour ']=x[column].apply(lambda x:x.hour)\n",
    "            x[column+'_minute']=x[column].apply(lambda x:x.minute)\n",
    "            x=x.drop(column,axis=1)\n",
    "        return x"
   ]
  },
  {
   "cell_type": "code",
   "execution_count": 111,
   "metadata": {},
   "outputs": [],
   "source": [
    "## Construct transformer pipelines for each feature type\n",
    "binary_transformer=Pipeline(steps=[('ordinal',OrdinalEncoder())])\n",
    "date_transformer=Pipeline(steps=[('date',DateEncoder())])\n",
    "time_transformer=Pipeline(steps=[('time',TimeEncoder())])\n",
    "nominal_transformer=Pipeline(steps=[('onehot',OneHotEncoder())])"
   ]
  },
  {
   "cell_type": "code",
   "execution_count": 112,
   "metadata": {},
   "outputs": [],
   "source": [
    "## Combine transfomers with Column Transformer\n",
    "preprocessor=ColumnTransformer(transformers=[('binary',binary_transformer,binary_featuers),(\n",
    "    'date',date_transformer,date_featuers),\n",
    "    ('time',time_transformer,time_featuers),\n",
    "    ('nominal',nominal_transformer,nominal_featuers)\n",
    "])"
   ]
  },
  {
   "cell_type": "code",
   "execution_count": 157,
   "metadata": {},
   "outputs": [],
   "source": [
    "## Training"
   ]
  },
  {
   "cell_type": "code",
   "execution_count": 114,
   "metadata": {},
   "outputs": [],
   "source": [
    "models={\n",
    "    \"LinearRegression\": LinearRegression(),\n",
    "    \"SVM(Linear Kernel)\":LinearSVR()\n",
    "}\n",
    "scaler=StandardScaler()"
   ]
  },
  {
   "cell_type": "code",
   "execution_count": 117,
   "metadata": {},
   "outputs": [
    {
     "name": "stdout",
     "output_type": "stream",
     "text": [
      "SVM(Linear Kernel)trained\n"
     ]
    }
   ],
   "source": [
    "for name,model in models.items():\n",
    "    pipeline=Pipeline(steps=[('preprocessor',preprocessor),('scaler',scaler),('regressor',model)])\n",
    "# ## Fit pipeline\n",
    "pipeline.fit(x_train,y_train)   \n",
    "print(name+\"trained\")"
   ]
  },
  {
   "cell_type": "code",
   "execution_count": 124,
   "metadata": {},
   "outputs": [
    {
     "name": "stdout",
     "output_type": "stream",
     "text": [
      "SVM(Linear Kernel)R 2 square:-0.08459\n"
     ]
    }
   ],
   "source": [
    "## Results\n",
    "for name,model in models.items():\n",
    "    pipeline=Pipeline(steps=[\n",
    "        ('preprocessor',preprocessor),\n",
    "        ('scaler',scaler),\n",
    "        ('regressor',model)\n",
    "    ])\n",
    "print(name+\"R 2 square:{:.5f}\".format(pipeline.score(x_test,y_test)))"
   ]
  },
  {
   "attachments": {},
   "cell_type": "markdown",
   "metadata": {},
   "source": [
    "## Second Project"
   ]
  },
  {
   "cell_type": "code",
   "execution_count": 37,
   "metadata": {},
   "outputs": [],
   "source": [
    "import pandas as pd\n",
    "import numpy as np\n",
    "import warnings\n",
    "warnings.filterwarnings('ignore')"
   ]
  },
  {
   "cell_type": "code",
   "execution_count": 128,
   "metadata": {},
   "outputs": [],
   "source": [
    "df=pd.read_csv(\"file:///C:/Users/00824732/Desktop/New%20York%20City%20Restaurant%20Inspection.csv\")"
   ]
  },
  {
   "cell_type": "code",
   "execution_count": 151,
   "metadata": {},
   "outputs": [
    {
     "data": {
      "text/html": [
       "<div>\n",
       "<style scoped>\n",
       "    .dataframe tbody tr th:only-of-type {\n",
       "        vertical-align: middle;\n",
       "    }\n",
       "\n",
       "    .dataframe tbody tr th {\n",
       "        vertical-align: top;\n",
       "    }\n",
       "\n",
       "    .dataframe thead th {\n",
       "        text-align: right;\n",
       "    }\n",
       "</style>\n",
       "<table border=\"1\" class=\"dataframe\">\n",
       "  <thead>\n",
       "    <tr style=\"text-align: right;\">\n",
       "      <th></th>\n",
       "      <th>CAMIS</th>\n",
       "      <th>DBA</th>\n",
       "      <th>BORO</th>\n",
       "      <th>BUILDING</th>\n",
       "      <th>STREET</th>\n",
       "      <th>ZIPCODE</th>\n",
       "      <th>PHONE</th>\n",
       "      <th>CUISINE DESCRIPTION</th>\n",
       "      <th>INSPECTION DATE</th>\n",
       "      <th>ACTION</th>\n",
       "      <th>VIOLATION CODE</th>\n",
       "      <th>VIOLATION DESCRIPTION</th>\n",
       "      <th>CRITICAL FLAG</th>\n",
       "      <th>SCORE</th>\n",
       "      <th>GRADE</th>\n",
       "      <th>GRADE DATE</th>\n",
       "      <th>RECORD DATE</th>\n",
       "      <th>INSPECTION TYPE</th>\n",
       "      <th>Latitude</th>\n",
       "      <th>Longitude</th>\n",
       "      <th>Community Board</th>\n",
       "      <th>Council District</th>\n",
       "      <th>Census Tract</th>\n",
       "      <th>BIN</th>\n",
       "      <th>BBL</th>\n",
       "      <th>NTA</th>\n",
       "    </tr>\n",
       "  </thead>\n",
       "  <tbody>\n",
       "    <tr>\n",
       "      <th>0</th>\n",
       "      <td>41089834</td>\n",
       "      <td>MURRAY HILL DINER</td>\n",
       "      <td>Manhattan</td>\n",
       "      <td>222</td>\n",
       "      <td>LEXINGTON AVENUE</td>\n",
       "      <td>10016.0</td>\n",
       "      <td>2126866667</td>\n",
       "      <td>NaN</td>\n",
       "      <td>NaN</td>\n",
       "      <td>P</td>\n",
       "      <td>NaN</td>\n",
       "      <td>NaN</td>\n",
       "      <td>NaN</td>\n",
       "      <td>21.0</td>\n",
       "      <td>NaN</td>\n",
       "      <td>NaN</td>\n",
       "      <td>NaN</td>\n",
       "      <td>NaN</td>\n",
       "      <td>40.745891</td>\n",
       "      <td>-73.980104</td>\n",
       "      <td>105.0</td>\n",
       "      <td>2.0</td>\n",
       "      <td>7200.0</td>\n",
       "      <td>1018492.0</td>\n",
       "      <td>1.008890e+09</td>\n",
       "      <td>MN20</td>\n",
       "    </tr>\n",
       "    <tr>\n",
       "      <th>1</th>\n",
       "      <td>41089834</td>\n",
       "      <td>MURRAY HILL DINER</td>\n",
       "      <td>Manhattan</td>\n",
       "      <td>222</td>\n",
       "      <td>LEXINGTON AVENUE</td>\n",
       "      <td>10016.0</td>\n",
       "      <td>2126866667</td>\n",
       "      <td>NaN</td>\n",
       "      <td>NaN</td>\n",
       "      <td>P</td>\n",
       "      <td>NaN</td>\n",
       "      <td>NaN</td>\n",
       "      <td>NaN</td>\n",
       "      <td>21.0</td>\n",
       "      <td>NaN</td>\n",
       "      <td>NaN</td>\n",
       "      <td>NaN</td>\n",
       "      <td>NaN</td>\n",
       "      <td>40.745891</td>\n",
       "      <td>-73.980104</td>\n",
       "      <td>105.0</td>\n",
       "      <td>2.0</td>\n",
       "      <td>7200.0</td>\n",
       "      <td>1018492.0</td>\n",
       "      <td>1.008890e+09</td>\n",
       "      <td>MN20</td>\n",
       "    </tr>\n",
       "    <tr>\n",
       "      <th>2</th>\n",
       "      <td>41089834</td>\n",
       "      <td>MURRAY HILL DINER</td>\n",
       "      <td>Manhattan</td>\n",
       "      <td>222</td>\n",
       "      <td>LEXINGTON AVENUE</td>\n",
       "      <td>10016.0</td>\n",
       "      <td>2126866667</td>\n",
       "      <td>NaN</td>\n",
       "      <td>NaN</td>\n",
       "      <td>P</td>\n",
       "      <td>NaN</td>\n",
       "      <td>NaN</td>\n",
       "      <td>NaN</td>\n",
       "      <td>21.0</td>\n",
       "      <td>NaN</td>\n",
       "      <td>NaN</td>\n",
       "      <td>NaN</td>\n",
       "      <td>NaN</td>\n",
       "      <td>40.745891</td>\n",
       "      <td>-73.980104</td>\n",
       "      <td>105.0</td>\n",
       "      <td>2.0</td>\n",
       "      <td>7200.0</td>\n",
       "      <td>1018492.0</td>\n",
       "      <td>1.008890e+09</td>\n",
       "      <td>MN20</td>\n",
       "    </tr>\n",
       "    <tr>\n",
       "      <th>3</th>\n",
       "      <td>41089834</td>\n",
       "      <td>MURRAY HILL DINER</td>\n",
       "      <td>Manhattan</td>\n",
       "      <td>222</td>\n",
       "      <td>LEXINGTON AVENUE</td>\n",
       "      <td>10016.0</td>\n",
       "      <td>2126866667</td>\n",
       "      <td>NaN</td>\n",
       "      <td>NaN</td>\n",
       "      <td>P</td>\n",
       "      <td>NaN</td>\n",
       "      <td>NaN</td>\n",
       "      <td>NaN</td>\n",
       "      <td>21.0</td>\n",
       "      <td>NaN</td>\n",
       "      <td>NaN</td>\n",
       "      <td>NaN</td>\n",
       "      <td>NaN</td>\n",
       "      <td>40.745891</td>\n",
       "      <td>-73.980104</td>\n",
       "      <td>105.0</td>\n",
       "      <td>2.0</td>\n",
       "      <td>7200.0</td>\n",
       "      <td>1018492.0</td>\n",
       "      <td>1.008890e+09</td>\n",
       "      <td>MN20</td>\n",
       "    </tr>\n",
       "    <tr>\n",
       "      <th>4</th>\n",
       "      <td>40596549</td>\n",
       "      <td>POLLOS A LA BARASA MARIO</td>\n",
       "      <td>Queens</td>\n",
       "      <td>40-19</td>\n",
       "      <td>BROADWAY</td>\n",
       "      <td>11103.0</td>\n",
       "      <td>7189322424</td>\n",
       "      <td>NaN</td>\n",
       "      <td>NaN</td>\n",
       "      <td>D</td>\n",
       "      <td>NaN</td>\n",
       "      <td>NaN</td>\n",
       "      <td>NaN</td>\n",
       "      <td>13.0</td>\n",
       "      <td>NaN</td>\n",
       "      <td>NaN</td>\n",
       "      <td>NaN</td>\n",
       "      <td>NaN</td>\n",
       "      <td>40.758872</td>\n",
       "      <td>-73.918772</td>\n",
       "      <td>401.0</td>\n",
       "      <td>22.0</td>\n",
       "      <td>15500.0</td>\n",
       "      <td>4011093.0</td>\n",
       "      <td>4.006780e+09</td>\n",
       "      <td>QN70</td>\n",
       "    </tr>\n",
       "  </tbody>\n",
       "</table>\n",
       "</div>"
      ],
      "text/plain": [
       "      CAMIS                       DBA       BORO BUILDING            STREET  \\\n",
       "0  41089834         MURRAY HILL DINER  Manhattan      222  LEXINGTON AVENUE   \n",
       "1  41089834         MURRAY HILL DINER  Manhattan      222  LEXINGTON AVENUE   \n",
       "2  41089834         MURRAY HILL DINER  Manhattan      222  LEXINGTON AVENUE   \n",
       "3  41089834         MURRAY HILL DINER  Manhattan      222  LEXINGTON AVENUE   \n",
       "4  40596549  POLLOS A LA BARASA MARIO     Queens    40-19          BROADWAY   \n",
       "\n",
       "   ZIPCODE       PHONE  CUISINE DESCRIPTION  INSPECTION DATE ACTION  \\\n",
       "0  10016.0  2126866667                  NaN              NaN      P   \n",
       "1  10016.0  2126866667                  NaN              NaN      P   \n",
       "2  10016.0  2126866667                  NaN              NaN      P   \n",
       "3  10016.0  2126866667                  NaN              NaN      P   \n",
       "4  11103.0  7189322424                  NaN              NaN      D   \n",
       "\n",
       "   VIOLATION CODE  VIOLATION DESCRIPTION  CRITICAL FLAG  SCORE  GRADE  \\\n",
       "0             NaN                    NaN            NaN   21.0    NaN   \n",
       "1             NaN                    NaN            NaN   21.0    NaN   \n",
       "2             NaN                    NaN            NaN   21.0    NaN   \n",
       "3             NaN                    NaN            NaN   21.0    NaN   \n",
       "4             NaN                    NaN            NaN   13.0    NaN   \n",
       "\n",
       "   GRADE DATE  RECORD DATE  INSPECTION TYPE   Latitude  Longitude  \\\n",
       "0         NaN          NaN              NaN  40.745891 -73.980104   \n",
       "1         NaN          NaN              NaN  40.745891 -73.980104   \n",
       "2         NaN          NaN              NaN  40.745891 -73.980104   \n",
       "3         NaN          NaN              NaN  40.745891 -73.980104   \n",
       "4         NaN          NaN              NaN  40.758872 -73.918772   \n",
       "\n",
       "   Community Board  Council District  Census Tract        BIN           BBL  \\\n",
       "0            105.0               2.0        7200.0  1018492.0  1.008890e+09   \n",
       "1            105.0               2.0        7200.0  1018492.0  1.008890e+09   \n",
       "2            105.0               2.0        7200.0  1018492.0  1.008890e+09   \n",
       "3            105.0               2.0        7200.0  1018492.0  1.008890e+09   \n",
       "4            401.0              22.0       15500.0  4011093.0  4.006780e+09   \n",
       "\n",
       "    NTA  \n",
       "0  MN20  \n",
       "1  MN20  \n",
       "2  MN20  \n",
       "3  MN20  \n",
       "4  QN70  "
      ]
     },
     "execution_count": 151,
     "metadata": {},
     "output_type": "execute_result"
    }
   ],
   "source": [
    "pd.set_option('display.max_columns',None)\n",
    "df.head()"
   ]
  },
  {
   "cell_type": "code",
   "execution_count": 130,
   "metadata": {},
   "outputs": [
    {
     "data": {
      "text/plain": [
       "{'Invoice ID': 1000,\n",
       " 'Branch': 3,\n",
       " 'City': 3,\n",
       " 'Customer type': 2,\n",
       " 'Gender': 2,\n",
       " 'Product line': 6,\n",
       " 'Unit price': 943,\n",
       " 'Quantity': 10,\n",
       " 'Tax 5%': 990,\n",
       " 'Total': 990,\n",
       " 'Date': 89,\n",
       " 'Time': 506,\n",
       " 'Payment': 3,\n",
       " 'cogs': 990,\n",
       " 'gross margin percentage': 1,\n",
       " 'gross income': 990}"
      ]
     },
     "execution_count": 130,
     "metadata": {},
     "output_type": "execute_result"
    }
   ],
   "source": [
    "{column:len(x[column].unique()) for column in x.columns}"
   ]
  },
  {
   "cell_type": "code",
   "execution_count": 109,
   "metadata": {},
   "outputs": [],
   "source": [
    "df=df.iloc[0:1000]"
   ]
  },
  {
   "cell_type": "code",
   "execution_count": 135,
   "metadata": {},
   "outputs": [],
   "source": [
    "## Preprocessing\n",
    "def preprocess_inputs(df):\n",
    "    df=df.copy()\n",
    "    ## Drop CAMIS and DBA Columns\n",
    "    df['zipcode']=df['ZIPCODE'].astype(str)\n",
    "    ##Dropping single value column\n",
    "    df=df.drop('RECORD DATE',axis=1)\n",
    "    ## DROPPING HIGH CARDINALITY COLUMN\n",
    "    high_cardinal=[\n",
    "        'BUILDING',\n",
    "        'STREET',\n",
    "        'ZIPCODE',\n",
    "     'PHONE'\n",
    "    ]\n",
    "    df=df.drop(high_cardinal,axis=1)\n",
    "    ## Extract datefeatuers\n",
    "    df['INSPECTION DATE']=pd.to_datetime(df['INSPECTION DATE'])\n",
    "    df['INSPECTION YEAR']=pd.to_datetime(df['INSPECTION DATE'].apply(lambda x:x.year))\n",
    "    df['INSPECTION MONTH']=pd.to_datetime(df['INSPECTION DATE'].apply(lambda x:x.month))\n",
    "    df.drop('INSPECTION DATE',axis=1)\n",
    "    df['CRITICAL FLAG']=df['CRITICAL FLAG'].astype(object)\n",
    "    missing_values=df.columns[df.isna().mean()>=0.25]\n",
    "    df=df.drop(missing_values,axis=1)\n",
    "   ## Droprows with missing target values\n",
    "    missing_targets=df[df['CRITICAL FLAG']=='Not Applicable'].index\n",
    "    df=df.drop(missing_targets,axis=0).reset_index(drop=True)\n",
    "    ## One hot encoding\n",
    "    for column in df.select_dtypes('object').drop('CRITICAL FLAG',axis=1):\n",
    "        dummies=pd.get_dummies(df[column],prefix=column)\n",
    "        df=pd.concat([df,dummies],axis=1)\n",
    "        df=df.drop(column,axis=1)\n",
    "    x=df.drop(\"CRITICAL FLAG\",axis=1)\n",
    "    y=df[\"CRITICAL FLAG\"]\n",
    "    x_train,x_test,y_train,y_test=train_test_split(x,y)\n",
    "    ## scale\n",
    "    scaler=StandardScaler()\n",
    "    scaler.fit(x_train)\n",
    "    x_train=pd.DataFrame(scaler.transform(x_train),index=x_train.index,columns=x_train.columns)\n",
    "    x_test=pd.DataFrame(scaler.transform(x_test),index=x_test.index,columns=x_test.columns) \n",
    "    return x_train,x_test,y_train,y_test"
   ]
  },
  {
   "cell_type": "code",
   "execution_count": null,
   "metadata": {},
   "outputs": [],
   "source": [
    "x_train,x_test,y_train,y_test=preprocess_inputs(df)"
   ]
  },
  {
   "cell_type": "code",
   "execution_count": 131,
   "metadata": {},
   "outputs": [],
   "source": [
    "model=LogisticRegression()"
   ]
  },
  {
   "cell_type": "code",
   "execution_count": null,
   "metadata": {},
   "outputs": [],
   "source": [
    "model.fit(x_train,y_train)"
   ]
  },
  {
   "cell_type": "code",
   "execution_count": null,
   "metadata": {},
   "outputs": [],
   "source": [
    "model.coef_"
   ]
  },
  {
   "cell_type": "code",
   "execution_count": null,
   "metadata": {},
   "outputs": [],
   "source": [
    "acc=model.score(x_test,y_test)\n",
    "print(\"Test accuracy :{.2f}%\".format(acc*100))"
   ]
  },
  {
   "cell_type": "code",
   "execution_count": null,
   "metadata": {},
   "outputs": [],
   "source": [
    "y_pred=model.predict(x_test)    \n",
    "cm=confusion_matrix(y_test,y_pred,labels=['Not Critical','Critical'])\n",
    "clr=classification_report(y_test,y_pred,labels=['Not Critical','Critical'])\n",
    "sns.heatmap(cm,annot=True)\n",
    "plt.show()\n",
    "print(\"classification report\",clr)"
   ]
  },
  {
   "cell_type": "code",
   "execution_count": null,
   "metadata": {},
   "outputs": [],
   "source": [
    "## Feature importance\n",
    "## use weights to model to see the most importance\n",
    "most_importance=np.argmax(model.coef_)\n",
    "x_train.columns[np.argmax(model.coef_)]"
   ]
  },
  {
   "cell_type": "code",
   "execution_count": null,
   "metadata": {},
   "outputs": [],
   "source": [
    "df.query('VIOLATION CODE'=='10F')['VIOLATION DESCRIPTION']"
   ]
  },
  {
   "cell_type": "code",
   "execution_count": null,
   "metadata": {},
   "outputs": [],
   "source": [
    "## check the description associated\n",
    "code_description=df.query('VIOLATION CODE'=='10F')['VIOLATION DESCRIPTION']\n",
    "print(\"code\"+code_description)"
   ]
  }
 ],
 "metadata": {
  "kernelspec": {
   "display_name": "Python 3",
   "language": "python",
   "name": "python3"
  },
  "language_info": {
   "codemirror_mode": {
    "name": "ipython",
    "version": 3
   },
   "file_extension": ".py",
   "mimetype": "text/x-python",
   "name": "python",
   "nbconvert_exporter": "python",
   "pygments_lexer": "ipython3",
   "version": "3.9.13 (tags/v3.9.13:6de2ca5, May 17 2022, 16:36:42) [MSC v.1929 64 bit (AMD64)]"
  },
  "orig_nbformat": 4,
  "vscode": {
   "interpreter": {
    "hash": "9f726a45fd4c9cb383deb1a4ab1fcba97bf1a7b0ecf6020f96231b218272cf5d"
   }
  }
 },
 "nbformat": 4,
 "nbformat_minor": 2
}
